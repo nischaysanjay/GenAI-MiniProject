{
  "nbformat": 4,
  "nbformat_minor": 0,
  "metadata": {
    "colab": {
      "provenance": []
    },
    "kernelspec": {
      "name": "python3",
      "display_name": "Python 3"
    },
    "language_info": {
      "name": "python"
    }
  },
  "cells": [
    {
      "cell_type": "code",
      "execution_count": 24,
      "metadata": {
        "colab": {
          "base_uri": "https://localhost:8080/"
        },
        "id": "p8PxOeF8ME8K",
        "outputId": "1642f07f-9257-4312-a932-6897b4c41c40"
      },
      "outputs": [
        {
          "output_type": "stream",
          "name": "stdout",
          "text": [
            "Requirement already satisfied: nltk in /usr/local/lib/python3.10/dist-packages (3.8.1)\n",
            "Requirement already satisfied: transformers in /usr/local/lib/python3.10/dist-packages (4.40.0)\n",
            "Requirement already satisfied: click in /usr/local/lib/python3.10/dist-packages (from nltk) (8.1.7)\n",
            "Requirement already satisfied: joblib in /usr/local/lib/python3.10/dist-packages (from nltk) (1.4.0)\n",
            "Requirement already satisfied: regex>=2021.8.3 in /usr/local/lib/python3.10/dist-packages (from nltk) (2023.12.25)\n",
            "Requirement already satisfied: tqdm in /usr/local/lib/python3.10/dist-packages (from nltk) (4.66.2)\n",
            "Requirement already satisfied: filelock in /usr/local/lib/python3.10/dist-packages (from transformers) (3.13.4)\n",
            "Requirement already satisfied: huggingface-hub<1.0,>=0.19.3 in /usr/local/lib/python3.10/dist-packages (from transformers) (0.20.3)\n",
            "Requirement already satisfied: numpy>=1.17 in /usr/local/lib/python3.10/dist-packages (from transformers) (1.25.2)\n",
            "Requirement already satisfied: packaging>=20.0 in /usr/local/lib/python3.10/dist-packages (from transformers) (24.0)\n",
            "Requirement already satisfied: pyyaml>=5.1 in /usr/local/lib/python3.10/dist-packages (from transformers) (6.0.1)\n",
            "Requirement already satisfied: requests in /usr/local/lib/python3.10/dist-packages (from transformers) (2.31.0)\n",
            "Requirement already satisfied: tokenizers<0.20,>=0.19 in /usr/local/lib/python3.10/dist-packages (from transformers) (0.19.1)\n",
            "Requirement already satisfied: safetensors>=0.4.1 in /usr/local/lib/python3.10/dist-packages (from transformers) (0.4.3)\n",
            "Requirement already satisfied: fsspec>=2023.5.0 in /usr/local/lib/python3.10/dist-packages (from huggingface-hub<1.0,>=0.19.3->transformers) (2023.6.0)\n",
            "Requirement already satisfied: typing-extensions>=3.7.4.3 in /usr/local/lib/python3.10/dist-packages (from huggingface-hub<1.0,>=0.19.3->transformers) (4.11.0)\n",
            "Requirement already satisfied: charset-normalizer<4,>=2 in /usr/local/lib/python3.10/dist-packages (from requests->transformers) (3.3.2)\n",
            "Requirement already satisfied: idna<4,>=2.5 in /usr/local/lib/python3.10/dist-packages (from requests->transformers) (3.7)\n",
            "Requirement already satisfied: urllib3<3,>=1.21.1 in /usr/local/lib/python3.10/dist-packages (from requests->transformers) (2.0.7)\n",
            "Requirement already satisfied: certifi>=2017.4.17 in /usr/local/lib/python3.10/dist-packages (from requests->transformers) (2024.2.2)\n"
          ]
        }
      ],
      "source": [
        "!pip install nltk transformers"
      ]
    },
    {
      "cell_type": "code",
      "source": [
        "import nltk\n",
        "import torch\n",
        "from nltk.corpus import stopwords\n",
        "from transformers import PegasusForConditionalGeneration, PegasusTokenizer, pipeline"
      ],
      "metadata": {
        "id": "4BsMTfxDPO-B"
      },
      "execution_count": 25,
      "outputs": []
    },
    {
      "cell_type": "code",
      "source": [
        "nltk.download('punkt')\n",
        "nltk.download('stopwords')"
      ],
      "metadata": {
        "colab": {
          "base_uri": "https://localhost:8080/"
        },
        "id": "UDvtLQDjPQfG",
        "outputId": "af7efd93-916e-458a-b93b-c82a287d606b"
      },
      "execution_count": 26,
      "outputs": [
        {
          "output_type": "stream",
          "name": "stderr",
          "text": [
            "[nltk_data] Downloading package punkt to /root/nltk_data...\n",
            "[nltk_data]   Package punkt is already up-to-date!\n",
            "[nltk_data] Downloading package stopwords to /root/nltk_data...\n",
            "[nltk_data]   Package stopwords is already up-to-date!\n"
          ]
        },
        {
          "output_type": "execute_result",
          "data": {
            "text/plain": [
              "True"
            ]
          },
          "metadata": {},
          "execution_count": 26
        }
      ]
    },
    {
      "cell_type": "code",
      "source": [
        "def split_text_into_sentences(text):\n",
        "    return nltk.sent_tokenize(text)"
      ],
      "metadata": {
        "id": "C-SiJi8YO9wX"
      },
      "execution_count": 27,
      "outputs": []
    },
    {
      "cell_type": "code",
      "source": [
        "def generate_abstractive_summary(text, model, tokenizer, min_length=30, max_length=150):\n",
        "\n",
        "    tokens = tokenizer(text, truncation=True, padding=\"longest\", return_tensors=\"pt\")\n",
        "\n",
        "    encoded_summary = model.generate(**tokens)\n",
        "\n",
        "    decoded_summary = tokenizer.decode(encoded_summary[0], skip_special_tokens=True)\n",
        "\n",
        "    return decoded_summary"
      ],
      "metadata": {
        "id": "k2gowI1CO_rQ"
      },
      "execution_count": 28,
      "outputs": []
    },
    {
      "cell_type": "code",
      "source": [
        "def generate_extractive_summary(text, num_sentences=3):\n",
        "    sentences = split_text_into_sentences(text)\n",
        "\n",
        "    num_sentences = min(num_sentences, len(sentences))\n",
        "\n",
        "    summary = ' '.join(sentences[:num_sentences])\n",
        "\n",
        "    return summary"
      ],
      "metadata": {
        "id": "3qlCx5wqPCSc"
      },
      "execution_count": 29,
      "outputs": []
    },
    {
      "cell_type": "code",
      "source": [
        "def compare_summaries(abstractive_summary, extractive_summary, pipeline_summary):\n",
        "    print(\"\\nSummary Comparison:\")\n",
        "    print(f\"Abstractive Summary: {abstractive_summary}\")\n",
        "    print(f\"Extractive Summary: {extractive_summary}\")\n",
        "    print(f\"Pipeline Summary: {pipeline_summary}\")"
      ],
      "metadata": {
        "id": "LveDueHFPkvj"
      },
      "execution_count": 30,
      "outputs": []
    },
    {
      "cell_type": "code",
      "source": [
        "def generate_pipeline_summary(text, summarizer, min_length=30, max_length=150):\n",
        "    pipeline_summary = summarizer(text, min_length=min_length, max_length=max_length)\n",
        "    return pipeline_summary[0][\"summary_text\"]"
      ],
      "metadata": {
        "id": "Rc0OIjYwMHfo"
      },
      "execution_count": 31,
      "outputs": []
    },
    {
      "cell_type": "code",
      "source": [
        "model_name = \"google/pegasus-xsum\"\n",
        "pegasus_tokenizer = PegasusTokenizer.from_pretrained(model_name)\n",
        "pegasus_model = PegasusForConditionalGeneration.from_pretrained(model_name)"
      ],
      "metadata": {
        "colab": {
          "base_uri": "https://localhost:8080/"
        },
        "id": "wlrfNMMXPHF3",
        "outputId": "2b4a841a-9799-4414-941b-f7f233286d8c"
      },
      "execution_count": 32,
      "outputs": [
        {
          "output_type": "stream",
          "name": "stderr",
          "text": [
            "Some weights of PegasusForConditionalGeneration were not initialized from the model checkpoint at google/pegasus-xsum and are newly initialized: ['model.decoder.embed_positions.weight', 'model.encoder.embed_positions.weight']\n",
            "You should probably TRAIN this model on a down-stream task to be able to use it for predictions and inference.\n"
          ]
        }
      ]
    },
    {
      "cell_type": "code",
      "source": [
        "summarizer = pipeline(\n",
        "  \"summarization\",\n",
        "  model=model_name,\n",
        "  tokenizer=pegasus_tokenizer,\n",
        "  framework=\"pt\"\n",
        ")"
      ],
      "metadata": {
        "colab": {
          "base_uri": "https://localhost:8080/"
        },
        "id": "Fv0VtQGmMMVS",
        "outputId": "23450f92-82c8-4899-a4a7-e6dee60c05de"
      },
      "execution_count": 33,
      "outputs": [
        {
          "output_type": "stream",
          "name": "stderr",
          "text": [
            "Some weights of PegasusForConditionalGeneration were not initialized from the model checkpoint at google/pegasus-xsum and are newly initialized: ['model.decoder.embed_positions.weight', 'model.encoder.embed_positions.weight']\n",
            "You should probably TRAIN this model on a down-stream task to be able to use it for predictions and inference.\n"
          ]
        }
      ]
    },
    {
      "cell_type": "code",
      "source": [
        "def preprocess_text(text):\n",
        "    text = text.lower()\n",
        "    words = nltk.word_tokenize(text)\n",
        "    stop_words = set(stopwords.words('english'))\n",
        "    words = [word for word in words if word not in stop_words]\n",
        "    return words"
      ],
      "metadata": {
        "id": "XyYpW-cNNmUv"
      },
      "execution_count": 34,
      "outputs": []
    },
    {
      "cell_type": "code",
      "source": [
        "example_text = \"\"\"Deep learning (also known as deep structured learning) ispart of a broader family of machine learning methods based on artificial neural networks with representation learning. Learning can be supervised, semi-supervised or unsupervised. Deep-learning architectures such as deep neural networks, deep belief networks, deep reinforcement learning,recurrent neural networks and convolutional neural networks have been applied to fields including computer vision, speech recognition, natural language processing, machine translation, bioinformatics, drug design, medical image analysis, material inspection and board game programs, where they have produced results comparable to and in some cases surpassing human expert performance. Artificial neural networks (ANNs) were inspired by information processing and distributed communication nodes in biological systems. ANNs have various differences from biological brains. Specifically, neural networks tend to be static and symbolic, while the biological brain of most living organisms is dynamic (plastic) and analogue. The adjective \"deep\" in deep learning refers to the use of multiple layers in the network. Early work showed that a linear perceptron cannot be a universal classifier, but that a network with a nonpolynomial activation function with one hidden layer of unbounded width can. Deep learning is a modern variation which is concerned with an unbounded number of layers of bounded size, which permits practical application and optimized implementation, while retaining theoretical universality under mild conditions. In deep learning the layers are also permitted to be heterogeneous and to deviate widely from biologically informed connectionist models, for the sake of efficiency, trainability and understandability, whence the structured part.\"\"\""
      ],
      "metadata": {
        "id": "CrbQBMeiPZR8"
      },
      "execution_count": 35,
      "outputs": []
    },
    {
      "cell_type": "code",
      "source": [
        "preprocessed_text = preprocess_text(example_text)\n",
        "print(preprocessed_text)"
      ],
      "metadata": {
        "colab": {
          "base_uri": "https://localhost:8080/"
        },
        "id": "E5RiadVWPcDt",
        "outputId": "36a7e967-337c-4d77-cc17-d1876c9c5458"
      },
      "execution_count": 36,
      "outputs": [
        {
          "output_type": "stream",
          "name": "stdout",
          "text": [
            "['deep', 'learning', '(', 'also', 'known', 'deep', 'structured', 'learning', ')', 'ispart', 'broader', 'family', 'machine', 'learning', 'methods', 'based', 'artificial', 'neural', 'networks', 'representation', 'learning', '.', 'learning', 'supervised', ',', 'semi-supervised', 'unsupervised', '.', 'deep-learning', 'architectures', 'deep', 'neural', 'networks', ',', 'deep', 'belief', 'networks', ',', 'deep', 'reinforcement', 'learning', ',', 'recurrent', 'neural', 'networks', 'convolutional', 'neural', 'networks', 'applied', 'fields', 'including', 'computer', 'vision', ',', 'speech', 'recognition', ',', 'natural', 'language', 'processing', ',', 'machine', 'translation', ',', 'bioinformatics', ',', 'drug', 'design', ',', 'medical', 'image', 'analysis', ',', 'material', 'inspection', 'board', 'game', 'programs', ',', 'produced', 'results', 'comparable', 'cases', 'surpassing', 'human', 'expert', 'performance', '.', 'artificial', 'neural', 'networks', '(', 'anns', ')', 'inspired', 'information', 'processing', 'distributed', 'communication', 'nodes', 'biological', 'systems', '.', 'anns', 'various', 'differences', 'biological', 'brains', '.', 'specifically', ',', 'neural', 'networks', 'tend', 'static', 'symbolic', ',', 'biological', 'brain', 'living', 'organisms', 'dynamic', '(', 'plastic', ')', 'analogue', '.', 'adjective', '``', 'deep', \"''\", 'deep', 'learning', 'refers', 'use', 'multiple', 'layers', 'network', '.', 'early', 'work', 'showed', 'linear', 'perceptron', 'universal', 'classifier', ',', 'network', 'nonpolynomial', 'activation', 'function', 'one', 'hidden', 'layer', 'unbounded', 'width', '.', 'deep', 'learning', 'modern', 'variation', 'concerned', 'unbounded', 'number', 'layers', 'bounded', 'size', ',', 'permits', 'practical', 'application', 'optimized', 'implementation', ',', 'retaining', 'theoretical', 'universality', 'mild', 'conditions', '.', 'deep', 'learning', 'layers', 'also', 'permitted', 'heterogeneous', 'deviate', 'widely', 'biologically', 'informed', 'connectionist', 'models', ',', 'sake', 'efficiency', ',', 'trainability', 'understandability', ',', 'whence', 'structured', 'part', '.']\n"
          ]
        }
      ]
    },
    {
      "cell_type": "code",
      "source": [
        "abstractive_summary = generate_abstractive_summary(' '.join(preprocessed_text), pegasus_model, pegasus_tokenizer)\n",
        "pipeline_summary = generate_pipeline_summary(' '.join(preprocessed_text), summarizer)"
      ],
      "metadata": {
        "id": "W97kqGjyPfCg"
      },
      "execution_count": 37,
      "outputs": []
    },
    {
      "cell_type": "code",
      "source": [
        "print(\"Abstractive Summary:\")\n",
        "print(abstractive_summary)\n",
        "print(\"\\nExtractive Summary:\")\n",
        "print(generate_extractive_summary(' '.join(preprocessed_text)))\n",
        "print(\"\\nPipeline Summary:\")\n",
        "print(pipeline_summary)"
      ],
      "metadata": {
        "colab": {
          "base_uri": "https://localhost:8080/"
        },
        "id": "ttXTWCxpMNt1",
        "outputId": "6866ced3-ceb8-4e23-c436-63e3954ae717"
      },
      "execution_count": 38,
      "outputs": [
        {
          "output_type": "stream",
          "name": "stdout",
          "text": [
            "Abstractive Summary:\n",
            "Deep learning is a branch of computer science that deals with the study of machine learning.\n",
            "\n",
            "Extractive Summary:\n",
            "deep learning ( also known deep structured learning ) ispart broader family machine learning methods based artificial neural networks representation learning . learning supervised , semi-supervised unsupervised . deep-learning architectures deep neural networks , deep belief networks , deep reinforcement learning , recurrent neural networks convolutional neural networks applied fields including computer vision , speech recognition , natural language processing , machine translation , bioinformatics , drug design , medical image analysis , material inspection board game programs , produced results comparable cases surpassing human expert performance .\n",
            "\n",
            "Pipeline Summary:\n",
            "Deep learning is a branch of computer science that deals with the study of natural language processing , machine translation , drug design and medical image analysis.\n"
          ]
        }
      ]
    },
    {
      "cell_type": "code",
      "source": [
        "compare_summaries(abstractive_summary, generate_extractive_summary(' '.join(preprocessed_text)), pipeline_summary)"
      ],
      "metadata": {
        "colab": {
          "base_uri": "https://localhost:8080/"
        },
        "id": "qMpEJ_bpMPM6",
        "outputId": "9655eec8-a7d8-4f72-c599-12df40a55af3"
      },
      "execution_count": 39,
      "outputs": [
        {
          "output_type": "stream",
          "name": "stdout",
          "text": [
            "\n",
            "Summary Comparison:\n",
            "Abstractive Summary: Deep learning is a branch of computer science that deals with the study of machine learning.\n",
            "Extractive Summary: deep learning ( also known deep structured learning ) ispart broader family machine learning methods based artificial neural networks representation learning . learning supervised , semi-supervised unsupervised . deep-learning architectures deep neural networks , deep belief networks , deep reinforcement learning , recurrent neural networks convolutional neural networks applied fields including computer vision , speech recognition , natural language processing , machine translation , bioinformatics , drug design , medical image analysis , material inspection board game programs , produced results comparable cases surpassing human expert performance .\n",
            "Pipeline Summary: Deep learning is a branch of computer science that deals with the study of natural language processing , machine translation , drug design and medical image analysis.\n"
          ]
        }
      ]
    }
  ]
}